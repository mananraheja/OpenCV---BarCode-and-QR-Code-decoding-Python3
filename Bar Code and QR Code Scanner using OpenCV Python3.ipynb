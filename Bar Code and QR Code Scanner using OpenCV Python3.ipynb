{
 "cells": [
  {
   "cell_type": "code",
   "execution_count": 1,
   "metadata": {},
   "outputs": [
    {
     "name": "stdout",
     "output_type": "stream",
     "text": [
      "Type :  QRCODE\n",
      "Data :  b'http://packaging.illinois.edu' \n",
      "\n",
      "Type :  EAN13\n",
      "Data :  b'0987654321098' \n",
      "\n"
     ]
    }
   ],
   "source": [
    "# Program to decode QR Code and Barcode using OpenCV and Python3\n",
    "# Source: www.learnopencv.com\n",
    "\n",
    "from __future__ import print_function\n",
    "import pyzbar.pyzbar as pyzbar\n",
    "import numpy as np\n",
    "import cv2\n",
    "\n",
    "def decode(im):\n",
    "    # Find barcodes and QR codes\n",
    "    decodedObjects = pyzbar.decode(im)\n",
    "    \n",
    "    # Print results\n",
    "    for obj in decodedObjects:\n",
    "        print('Type : ', obj.type);\n",
    "        print('Data : ', obj.data, '\\n')\n",
    "    \n",
    "    return decodedObjects\n",
    "\n",
    "# Display barcode and QR code locations\n",
    "def display(im, decodedObjects):\n",
    "    \n",
    "    # Loop over all decoded objects\n",
    "    for decodedObject in decodedObjects:\n",
    "        points = decodedObject.location\n",
    "        \n",
    "    # If the points do not form a quadrilateral, find convex hull\n",
    "    #if len(points) > 4:\n",
    "    #    hull = cv2.convexHull(np.array([point for point in points], dtype = np.float32))\n",
    "    #    hull = list(map(tuple, np.squeeze(hull)))\n",
    "    #else:\n",
    "    #    hull = points\n",
    "    \n",
    "    # Number of points in the convex hull\n",
    "    #n = len(hull)\n",
    "    \n",
    "    # Draw the convex hull\n",
    "    #for j in range(0, n):\n",
    "    #    cv2.line(im, hull[j], hull[(j + 1) % n], (255, 0, 0), 3)\n",
    "        \n",
    "    # Display the results\n",
    "    cv2.imshow(\"Results\", im)\n",
    "    cv2.waitKey(0)\n",
    "    \n",
    "# Main\n",
    "if __name__ == '__main__':\n",
    "    \n",
    "    # Read image\n",
    "    im = cv2.imread('barqr2.jpg')\n",
    "    \n",
    "    decodedObjects = decode(im)\n",
    "    display(im, decodedObjects)"
   ]
  }
 ],
 "metadata": {
  "kernelspec": {
   "display_name": "Python 3",
   "language": "python",
   "name": "python3"
  },
  "language_info": {
   "codemirror_mode": {
    "name": "ipython",
    "version": 3
   },
   "file_extension": ".py",
   "mimetype": "text/x-python",
   "name": "python",
   "nbconvert_exporter": "python",
   "pygments_lexer": "ipython3",
   "version": "3.5.2"
  }
 },
 "nbformat": 4,
 "nbformat_minor": 2
}
